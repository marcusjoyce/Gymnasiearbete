{
 "cells": [
  {
   "cell_type": "code",
   "execution_count": 1,
   "metadata": {},
   "outputs": [],
   "source": [
    "\"\"\"\n",
    "Load the dataset and select relevant columns.\n",
    "\"\"\"\n",
    "\n",
    "import pandas as pd\n",
    "import os\n",
    "\n",
    "# Gets the absolute path to the data folder.\n",
    "dirname = os.path.abspath('')\n",
    "filename = os.path.join(dirname, '..', '..', 'data', 'all_data.csv')\n",
    "\n",
    "# Load the data\n",
    "df = pd.read_csv(filename)\n",
    "\n",
    "# Only keeps the cols that will be used\n",
    "df = df[['comment_text', 'toxicity', 'severe_toxicity']]\n",
    "\n",
    "# Something was wrong in the dataset and only certain intervals were labeled.\n",
    "df = df.iloc[list(range(0, 10565+1)) + list(range(65650, 76241+1)) + list(range(131626, 142099+1)) + list(range(262634, 273124+1)) + list(range(328456, 338866+1)) + list(range(394286, 404766+1)) + list(range(460042, 470469+1)) + list(range(525922, 536570+1)) + list(range(591591, 602307+1))]\n"
   ]
  },
  {
   "cell_type": "code",
   "execution_count": 4,
   "metadata": {},
   "outputs": [],
   "source": [
    "\"\"\"\n",
    "Performing autocorrect on dataset.\n",
    "\"\"\"\n",
    "from autocorrect import Speller\n",
    "\n",
    "# fast=False is preferable but is way to slow for these purposes, fast=True means that words with more than one error won't be fixed.\n",
    "spell = Speller(fast=True)\n",
    "\n",
    "# .map() performed sligthly better than .apply() in tests.\n",
    "#df['comment_text'] = df['comment_text'].astype(str).apply(spell)\n",
    "df['comment_text'] = df['comment_text'].astype(str).map(spell)\n"
   ]
  },
  {
   "cell_type": "code",
   "execution_count": null,
   "metadata": {},
   "outputs": [],
   "source": [
    "\"\"\"\n",
    "Remove punctuation, convert to lowercase.\n",
    "\"\"\"\n",
    "\n",
    "df['comment_text'] = df['comment_text'].str.replace(r'[^\\w\\s]+', '', regex=True)  # remove punctuation\n",
    "df['comment_text'] = df['comment_text'].apply(lambda x : x.lower())  # make lowercase\n"
   ]
  },
  {
   "cell_type": "code",
   "execution_count": null,
   "metadata": {},
   "outputs": [],
   "source": [
    "\"\"\"\n",
    "Download neccessary nltk data.\n",
    "\"\"\"\n",
    "from nltk import download\n",
    "\n",
    "download(\"wordnet\")\n",
    "download(\"omw-1.4\")\n",
    "download(\"stopwords\")\n"
   ]
  },
  {
   "cell_type": "code",
   "execution_count": 3,
   "metadata": {},
   "outputs": [],
   "source": [
    "\"\"\"\n",
    "Tokenize messages\n",
    "\"\"\"\n",
    "\n",
    "import re\n",
    "\n",
    "df['comment_text'] = df['comment_text'].apply(lambda x : re.split(r'\\s+', x))\n"
   ]
  },
  {
   "cell_type": "code",
   "execution_count": 5,
   "metadata": {},
   "outputs": [],
   "source": [
    "\"\"\"\n",
    "Remove Stop words\n",
    "\"\"\"\n",
    "\n",
    "from nltk.corpus import stopwords\n",
    "\n",
    "stop_words = set(map(lambda x : re.sub(r'[^\\w\\s]+', '', x), stopwords.words('english')))  # Loads nltk stopwords and removes punctuation\n",
    "\n",
    "df['comment_text'] = df['comment_text'].apply(lambda x : [word for word in x if word not in stop_words])\n"
   ]
  },
  {
   "cell_type": "code",
   "execution_count": 6,
   "metadata": {},
   "outputs": [],
   "source": [
    "\"\"\"\n",
    "Lemmatize data\n",
    "\"\"\"\n",
    "\n",
    "from nltk.stem import WordNetLemmatizer\n",
    "\n",
    "wnl = WordNetLemmatizer()\n",
    "\n",
    "df['comment_text'] = df['comment_text'].apply(lambda x : [wnl.lemmatize(wnl.lemmatize(word), pos='v') for word in x])  # Lemmatizes each word both as a noun and a verb\n"
   ]
  },
  {
   "cell_type": "code",
   "execution_count": 7,
   "metadata": {},
   "outputs": [],
   "source": [
    "\"\"\"\n",
    "Export the dataframe to a csv file.\n",
    "\"\"\"\n",
    "\n",
    "import os\n",
    "\n",
    "# Gets the absolute path to the file.\n",
    "dirname = os.path.abspath('')\n",
    "filename = os.path.join(dirname, '..', '..', 'data', 'all_data_proccessed.csv')\n",
    "\n",
    "df.to_csv(path_or_buf=filename)\n"
   ]
  }
 ],
 "metadata": {
  "kernelspec": {
   "display_name": "Python 3.11.0 ('gymnasiearbete_venv')",
   "language": "python",
   "name": "python3"
  },
  "language_info": {
   "codemirror_mode": {
    "name": "ipython",
    "version": 3
   },
   "file_extension": ".py",
   "mimetype": "text/x-python",
   "name": "python",
   "nbconvert_exporter": "python",
   "pygments_lexer": "ipython3",
   "version": "3.11.0"
  },
  "orig_nbformat": 4,
  "vscode": {
   "interpreter": {
    "hash": "9f8f9a1c5dea66502c36bf9832faacb0aadd87eec192002b66fedfa188ddbb25"
   }
  }
 },
 "nbformat": 4,
 "nbformat_minor": 2
}
