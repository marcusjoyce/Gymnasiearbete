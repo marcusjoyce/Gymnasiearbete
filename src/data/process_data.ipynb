{
 "cells": [
  {
   "cell_type": "code",
   "execution_count": 1,
   "metadata": {},
   "outputs": [
    {
     "name": "stdout",
     "output_type": "stream",
     "text": [
      "Time elapsed for code block 1: 19.087236881256104 s.\n"
     ]
    }
   ],
   "source": [
    "\"\"\"\n",
    "Load the dataset and select relevant columns.\n",
    "\"\"\"\n",
    "\n",
    "import pandas as pd\n",
    "import os\n",
    "\n",
    "# Gets the absolute path to the data folder.\n",
    "dirname = os.path.abspath('')\n",
    "filename = os.path.join(dirname, '..', '..', 'data', 'all_data.csv')\n",
    "\n",
    "# Load the data\n",
    "df = pd.read_csv(filename)\n",
    "\n",
    "# Only keeps the rows that will be used\n",
    "df = df[['id', 'comment_text', 'toxicity', 'severe_toxicity']]\n"
   ]
  },
  {
   "cell_type": "code",
   "execution_count": 11,
   "metadata": {},
   "outputs": [
    {
     "name": "stdout",
     "output_type": "stream",
     "text": [
      "Time elapsed for code block 2: 1374.0026388168335 s.\n"
     ]
    }
   ],
   "source": [
    "\"\"\"\n",
    "Performing autocorrect on dataset.\n",
    "\"\"\"\n",
    "from autocorrect import Speller\n",
    "\n",
    "#df1 = df.loc[[i for i in range(1,10001)]]\n",
    "\n",
    "# fast=False is preferable but is way to slow for these purposes, fast=True means that words with more than one error won't be fixed.\n",
    "spell = Speller(fast=True)\n",
    "\n",
    "# .map() performed sligthly better than .apply() in tests.\n",
    "#df1['comment_text'] = df1['comment_text'].astype(str).apply(spell)\n",
    "df['comment_text'] = df['comment_text'].astype(str).map(spell)\n"
   ]
  },
  {
   "cell_type": "code",
   "execution_count": 44,
   "metadata": {},
   "outputs": [],
   "source": [
    "\"\"\"\n",
    "Remove punctuation, convert to lowercase.\n",
    "\"\"\"\n",
    "\n",
    "df1 = df.loc[[i for i in range(1,1000001)]]\n",
    "\n",
    "df1['comment_text'] = df1['comment_text'].str.replace(r'[^\\w\\s]+', '', regex=True)  # remove punctuation\n",
    "df1['comment_text'] = df1['comment_text'].apply(lambda x : x.lower())  # make lowercase\n",
    "\n",
    "\n"
   ]
  },
  {
   "cell_type": "code",
   "execution_count": null,
   "metadata": {},
   "outputs": [],
   "source": [
    "\"\"\"\n",
    "Download neccessary nltk data.\n",
    "\"\"\"\n",
    "from nltk import download\n",
    "\n",
    "download(\"wordnet\")\n",
    "download(\"omw-1.4\")\n",
    "download(\"stopwords\")"
   ]
  },
  {
   "cell_type": "code",
   "execution_count": 45,
   "metadata": {},
   "outputs": [],
   "source": [
    "\"\"\"\n",
    "Tokenize messages\n",
    "\"\"\"\n",
    "\n",
    "import re\n",
    "\n",
    "df1['comment_text'] = df1['comment_text'].apply(lambda x : re.split(r'\\s+', x))\n"
   ]
  },
  {
   "cell_type": "code",
   "execution_count": 46,
   "metadata": {},
   "outputs": [],
   "source": [
    "\"\"\"\n",
    "Remove Stop words\n",
    "\"\"\"\n",
    "\n",
    "from nltk.corpus import stopwords\n",
    "\n",
    "stop_words = set(map(lambda x : re.sub(r'[^\\w\\s]+', '', x), stopwords.words('english')))  # Loads nltk stopwords and removes punctuation\n",
    "\n",
    "df1['comment_text'] = df1['comment_text'].apply(lambda x : [word for word in x if word not in stop_words])\n"
   ]
  },
  {
   "cell_type": "code",
   "execution_count": 47,
   "metadata": {},
   "outputs": [],
   "source": [
    "\"\"\"\n",
    "Lemmatize data\n",
    "\"\"\"\n",
    "\n",
    "from nltk.stem import WordNetLemmatizer\n",
    "\n",
    "wnl = WordNetLemmatizer()\n",
    "\n",
    "df1['comment_text'] = df1['comment_text'].apply(lambda x : [wnl.lemmatize(wnl.lemmatize(word), pos='v') for word in x])\n"
   ]
  },
  {
   "cell_type": "code",
   "execution_count": null,
   "metadata": {},
   "outputs": [],
   "source": [
    "\"\"\"\n",
    "Export the dataframe to a csv file.\n",
    "\"\"\"\n",
    "\n",
    "import os\n",
    "\n",
    "# Gets the absolute path to the file.\n",
    "dirname = os.path.abspath('')\n",
    "filename = os.path.join(dirname, '..', '..', 'data', 'all_data_proccessed.csv')\n",
    "\n",
    "df.to_csv(path_or_buf=filename)\n"
   ]
  }
 ],
 "metadata": {
  "kernelspec": {
   "display_name": "Python 3.11.0 ('gymnasiearbete_venv')",
   "language": "python",
   "name": "python3"
  },
  "language_info": {
   "codemirror_mode": {
    "name": "ipython",
    "version": 3
   },
   "file_extension": ".py",
   "mimetype": "text/x-python",
   "name": "python",
   "nbconvert_exporter": "python",
   "pygments_lexer": "ipython3",
   "version": "3.11.0"
  },
  "orig_nbformat": 4,
  "vscode": {
   "interpreter": {
    "hash": "9f8f9a1c5dea66502c36bf9832faacb0aadd87eec192002b66fedfa188ddbb25"
   }
  }
 },
 "nbformat": 4,
 "nbformat_minor": 2
}
