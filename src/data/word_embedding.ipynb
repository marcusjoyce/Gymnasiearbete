{
 "cells": [
  {
   "cell_type": "code",
   "execution_count": 9,
   "metadata": {},
   "outputs": [
    {
     "name": "stderr",
     "output_type": "stream",
     "text": [
      "C:\\Users\\marcus.joyce\\AppData\\Local\\Temp\\ipykernel_76072\\4204654206.py:12: DeprecationWarning: Call to deprecated `glove2word2vec` (KeyedVectors.load_word2vec_format(.., binary=False, no_header=True) loads GLoVE text vectors.).\n",
      "  glove2word2vec(glove_input_file, word2vec_output_file)\n"
     ]
    },
    {
     "data": {
      "text/plain": [
       "(400000, 300)"
      ]
     },
     "execution_count": 9,
     "metadata": {},
     "output_type": "execute_result"
    }
   ],
   "source": [
    "\"\"\"\n",
    "Convert GloVe file to word2vec file\n",
    "\"\"\"\n",
    "\n",
    "import os\n",
    "from gensim.scripts.glove2word2vec import glove2word2vec\n",
    "\n",
    "dirname = os.path.abspath('')\n",
    "glove_input_file = os.path.join(dirname, '..', '..', 'data', 'glove.6B.300d.txt')\n",
    "word2vec_output_file = os.path.join(dirname, '..', '..', 'data', 'word2vec.300d.txt')\n",
    "\n",
    "glove2word2vec(glove_input_file, word2vec_output_file)\n"
   ]
  },
  {
   "cell_type": "code",
   "execution_count": 1,
   "metadata": {},
   "outputs": [],
   "source": [
    "\"\"\"\n",
    "Load the word2vec model\n",
    "\"\"\"\n",
    "\n",
    "from gensim.models import KeyedVectors\n",
    "import os\n",
    "\n",
    "dirname = os.path.abspath('')\n",
    "filename = os.path.join(dirname, '..', '..', 'data', 'word2vec.100d.txt')\n",
    "\n",
    "model = KeyedVectors.load_word2vec_format(filename, binary=False)"
   ]
  },
  {
   "cell_type": "code",
   "execution_count": 17,
   "metadata": {},
   "outputs": [
    {
     "data": {
      "text/plain": [
       "'\\nwith open(os.path.join(dirname, \\'..\\', \\'..\\', \\'data\\', \\'all_data_proccessed_vectorized.csv\\'), \\'w\\', newline=\\'\\') as file:\\n    writer = csv.writer(file, delimiter=\\',\\', quotechar=\\'\"\\')\\n\\n    writer.writerow([\\'\\', \\'id\\', \\'comment_text\\', \\'toxicity\\', \\'severe_toxicity\\'])\\n\\n    for i, row in df.iterrows():\\n        writer.writerow([i, row[\\'id\\'], vectorize(row[\\'comment_text\\']), row[\\'toxicity\\'], row[\\'severe_toxicity\\']])\\n'"
      ]
     },
     "execution_count": 17,
     "metadata": {},
     "output_type": "execute_result"
    }
   ],
   "source": [
    "\n",
    "import numpy as np\n",
    "import pandas as pd\n",
    "import os\n",
    "import csv\n",
    "\n",
    "dirname = os.path.abspath('')\n",
    "data = os.path.join(dirname, '..', '..', 'data', 'all_data_proccessed.csv')\n",
    "\n",
    "df = pd.read_csv(data)\n",
    "\n",
    "max_sentence_length = 300\n",
    "dimension = 100\n",
    "\n",
    "def vectorize(sentence):\n",
    "\n",
    "    out = np.empty((max_sentence_length, dimension))\n",
    "    i_ = 0\n",
    "    for i, word in enumerate(sentence):\n",
    "        if i < max_sentence_length:\n",
    "            try:\n",
    "                out[i] = model[word]\n",
    "            except KeyError:\n",
    "                out[i] = np.zeros(dimension)\n",
    "            i_ += 1\n",
    "    out[range(i_+1, max_sentence_length)] = np.zeros(dimension)  # pad the array with arrays of zeros.\n",
    "\n",
    "    return out\n",
    "\n",
    "\n",
    "texts = df['comment_text'].apply(eval)\n",
    "\n",
    "texts = texts[:100000]\n",
    "\n",
    "comments = np.empty((len(texts), 300, 100), dtype='f')\n",
    "\n",
    "for j, c in enumerate(texts):\n",
    "    comments[j] = vectorize(c)\n",
    "\n",
    "np.save('test.npy', comments)\n"
   ]
  }
 ],
 "metadata": {
  "kernelspec": {
   "display_name": "Python 3.11.0 ('gymnasiearbete_venv')",
   "language": "python",
   "name": "python3"
  },
  "language_info": {
   "codemirror_mode": {
    "name": "ipython",
    "version": 3
   },
   "file_extension": ".py",
   "mimetype": "text/x-python",
   "name": "python",
   "nbconvert_exporter": "python",
   "pygments_lexer": "ipython3",
   "version": "3.11.0"
  },
  "orig_nbformat": 4,
  "vscode": {
   "interpreter": {
    "hash": "9f8f9a1c5dea66502c36bf9832faacb0aadd87eec192002b66fedfa188ddbb25"
   }
  }
 },
 "nbformat": 4,
 "nbformat_minor": 2
}
