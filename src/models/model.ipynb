{
 "cells": [
  {
   "cell_type": "code",
   "execution_count": 1,
   "metadata": {},
   "outputs": [],
   "source": [
    "\"\"\"\n",
    "Load the data and split into training and testing.\n",
    "\"\"\"\n",
    "\n",
    "from sklearn.model_selection import train_test_split\n",
    "import os\n",
    "import numpy as np\n",
    "\n",
    "dirname = os.path.abspath('')\n",
    "\n",
    "X = np.load(os.path.join(dirname, '..', '..', 'data', 'X.npy'))\n",
    "y = np.load(os.path.join(dirname, '..', '..', 'data', 'y.npy'))\n",
    "\n",
    "X_train, X_test, y_train, y_test = train_test_split(X, y, test_size=0.2, random_state=32)\n",
    "\n",
    "del X, y\n"
   ]
  },
  {
   "cell_type": "code",
   "execution_count": 2,
   "metadata": {},
   "outputs": [
    {
     "name": "stdout",
     "output_type": "stream",
     "text": [
      "Epoch 1/4\n",
      "2371/2371 [==============================] - 134s 56ms/step - loss: 0.6250 - accuracy: 1.9777e-04 - val_loss: 0.6226 - val_accuracy: 1.5821e-04\n",
      "Epoch 2/4\n",
      "2371/2371 [==============================] - 152s 64ms/step - loss: 0.6196 - accuracy: 1.9777e-04 - val_loss: 0.6216 - val_accuracy: 1.5821e-04\n",
      "Epoch 3/4\n",
      "2371/2371 [==============================] - 164s 69ms/step - loss: 0.6166 - accuracy: 1.9777e-04 - val_loss: 0.6224 - val_accuracy: 1.5821e-04\n",
      "Epoch 4/4\n",
      "2371/2371 [==============================] - 160s 68ms/step - loss: 0.6138 - accuracy: 1.9777e-04 - val_loss: 0.6226 - val_accuracy: 1.5821e-04\n"
     ]
    }
   ],
   "source": [
    "\"\"\"\n",
    "\n",
    "\"\"\"\n",
    "\n",
    "from keras.models import Sequential\n",
    "from keras.layers import Conv1D, GlobalMaxPooling1D, Dense, Dropout, Activation\n",
    "\n",
    "batch_size = 32\n",
    "maxlen = 300\n",
    "embedding_dims = 100 #Length of the token vectors\n",
    "filters = 250 #number of filters in your Convnet\n",
    "kernel_size = 3 # a window size of 3 tokens\n",
    "hidden_dims = 250 #number of neurons at the normal feedforward NN\n",
    "epochs = 4\n",
    "\n",
    "model = Sequential()\n",
    "model.add(Conv1D(filters, kernel_size, padding='valid', activation='relu', strides=1, input_shape=(maxlen,embedding_dims)))\n",
    "model.add(GlobalMaxPooling1D())\n",
    "\n",
    "model.add(Dense(hidden_dims))\n",
    "model.add(Dropout(0.2))\n",
    "model.add(Activation('relu'))\n",
    "model.add(Dense(1))\n",
    "model.add(Activation('sigmoid'))\n",
    "\n",
    "model.compile(loss = 'binary_crossentropy',optimizer = 'adam', metrics = ['accuracy'])\n",
    "model.fit(X_train,y_train,batch_size = batch_size,epochs = epochs , validation_data = (X_test,y_test))\n",
    "del X_train, X_test, y_train, y_test"
   ]
  },
  {
   "cell_type": "code",
   "execution_count": null,
   "metadata": {},
   "outputs": [],
   "source": [
    "import re\n",
    "from nltk.corpus import stopwords\n",
    "\n",
    "def convert(sentence):\n",
    "    sentence = re.sub(r'[^\\w\\s]+', '', sentence).lower()\n",
    "\n",
    "\n"
   ]
  }
 ],
 "metadata": {
  "kernelspec": {
   "display_name": "Python 3.11.0 ('gymnasiearbete_venv')",
   "language": "python",
   "name": "python3"
  },
  "language_info": {
   "codemirror_mode": {
    "name": "ipython",
    "version": 3
   },
   "file_extension": ".py",
   "mimetype": "text/x-python",
   "name": "python",
   "nbconvert_exporter": "python",
   "pygments_lexer": "ipython3",
   "version": "3.11.0"
  },
  "orig_nbformat": 4,
  "vscode": {
   "interpreter": {
    "hash": "9f8f9a1c5dea66502c36bf9832faacb0aadd87eec192002b66fedfa188ddbb25"
   }
  }
 },
 "nbformat": 4,
 "nbformat_minor": 2
}
